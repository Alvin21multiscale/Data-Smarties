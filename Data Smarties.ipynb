{
 "cells": [
  {
   "cell_type": "code",
   "execution_count": 1,
   "metadata": {},
   "outputs": [],
   "source": [
    "import logging\n",
    "import pandas as pd\n",
    "import numpy as np\n",
    "from numpy import random\n",
    "import nltk\n",
    "from sklearn.model_selection import train_test_split\n",
    "from sklearn.feature_extraction.text import CountVectorizer, TfidfVectorizer\n",
    "from sklearn.metrics import accuracy_score, confusion_matrix\n",
    "import matplotlib.pyplot as plt\n",
    "from nltk.corpus import stopwords\n",
    "import re\n",
    "\n",
    "%matplotlib inline"
   ]
  },
  {
   "cell_type": "code",
   "execution_count": 2,
   "metadata": {},
   "outputs": [
    {
     "data": {
      "text/html": [
       "<div>\n",
       "<style>\n",
       "    .dataframe thead tr:only-child th {\n",
       "        text-align: right;\n",
       "    }\n",
       "\n",
       "    .dataframe thead th {\n",
       "        text-align: left;\n",
       "    }\n",
       "\n",
       "    .dataframe tbody tr th {\n",
       "        vertical-align: top;\n",
       "    }\n",
       "</style>\n",
       "<table border=\"1\" class=\"dataframe\">\n",
       "  <thead>\n",
       "    <tr style=\"text-align: right;\">\n",
       "      <th></th>\n",
       "      <th>itemid</th>\n",
       "      <th>title</th>\n",
       "      <th>Category</th>\n",
       "      <th>image_path</th>\n",
       "    </tr>\n",
       "  </thead>\n",
       "  <tbody>\n",
       "    <tr>\n",
       "      <th>0</th>\n",
       "      <td>307504</td>\n",
       "      <td>nyx sex bomb pallete natural palette</td>\n",
       "      <td>0</td>\n",
       "      <td>beauty_image/6b2e9cbb279ac95703348368aa65da09.jpg</td>\n",
       "    </tr>\n",
       "    <tr>\n",
       "      <th>1</th>\n",
       "      <td>461203</td>\n",
       "      <td>etude house precious mineral any cushion pearl...</td>\n",
       "      <td>1</td>\n",
       "      <td>beauty_image/20450222d857c9571ba8fa23bdedc8c9.jpg</td>\n",
       "    </tr>\n",
       "    <tr>\n",
       "      <th>2</th>\n",
       "      <td>3592295</td>\n",
       "      <td>milani rose powder blush</td>\n",
       "      <td>2</td>\n",
       "      <td>beauty_image/6a5962bed605a3dd6604ca3a4278a4f9.jpg</td>\n",
       "    </tr>\n",
       "    <tr>\n",
       "      <th>3</th>\n",
       "      <td>4460167</td>\n",
       "      <td>etude house baby sweet sugar powder</td>\n",
       "      <td>3</td>\n",
       "      <td>beauty_image/56987ae186e8a8e71fcc5a261ca485da.jpg</td>\n",
       "    </tr>\n",
       "    <tr>\n",
       "      <th>4</th>\n",
       "      <td>5853995</td>\n",
       "      <td>bedak revlon color stay aqua mineral make up</td>\n",
       "      <td>3</td>\n",
       "      <td>beauty_image/9c6968066ebab57588c2f757a240d8b9.jpg</td>\n",
       "    </tr>\n",
       "    <tr>\n",
       "      <th>5</th>\n",
       "      <td>6208490</td>\n",
       "      <td>dr pure whitening cream</td>\n",
       "      <td>4</td>\n",
       "      <td>beauty_image/77e6b7e9d5544adbfda6809b2351c4fa.jpg</td>\n",
       "    </tr>\n",
       "    <tr>\n",
       "      <th>6</th>\n",
       "      <td>6959546</td>\n",
       "      <td>chanel powder blush malice</td>\n",
       "      <td>2</td>\n",
       "      <td>beauty_image/485c4b8435a1e94976a569f3f014ea8b.jpg</td>\n",
       "    </tr>\n",
       "    <tr>\n",
       "      <th>7</th>\n",
       "      <td>8984461</td>\n",
       "      <td>snail white cream original 100</td>\n",
       "      <td>4</td>\n",
       "      <td>beauty_image/c7336f1c2e590d4c2bee219a6a0351a7.jpg</td>\n",
       "    </tr>\n",
       "    <tr>\n",
       "      <th>8</th>\n",
       "      <td>9184082</td>\n",
       "      <td>sunprise all proof spf 50</td>\n",
       "      <td>4</td>\n",
       "      <td>beauty_image/970b32aa659689f371516e5ceb423e25.jpg</td>\n",
       "    </tr>\n",
       "    <tr>\n",
       "      <th>9</th>\n",
       "      <td>10345338</td>\n",
       "      <td>eyebrow powder nyx satuan rp 15.000 pc</td>\n",
       "      <td>3</td>\n",
       "      <td>beauty_image/49a47745248031775c98593f70f7201a.jpg</td>\n",
       "    </tr>\n",
       "  </tbody>\n",
       "</table>\n",
       "</div>"
      ],
      "text/plain": [
       "     itemid                                              title  Category  \\\n",
       "0    307504               nyx sex bomb pallete natural palette         0   \n",
       "1    461203  etude house precious mineral any cushion pearl...         1   \n",
       "2   3592295                           milani rose powder blush         2   \n",
       "3   4460167                etude house baby sweet sugar powder         3   \n",
       "4   5853995       bedak revlon color stay aqua mineral make up         3   \n",
       "5   6208490                            dr pure whitening cream         4   \n",
       "6   6959546                         chanel powder blush malice         2   \n",
       "7   8984461                     snail white cream original 100         4   \n",
       "8   9184082                          sunprise all proof spf 50         4   \n",
       "9  10345338             eyebrow powder nyx satuan rp 15.000 pc         3   \n",
       "\n",
       "                                          image_path  \n",
       "0  beauty_image/6b2e9cbb279ac95703348368aa65da09.jpg  \n",
       "1  beauty_image/20450222d857c9571ba8fa23bdedc8c9.jpg  \n",
       "2  beauty_image/6a5962bed605a3dd6604ca3a4278a4f9.jpg  \n",
       "3  beauty_image/56987ae186e8a8e71fcc5a261ca485da.jpg  \n",
       "4  beauty_image/9c6968066ebab57588c2f757a240d8b9.jpg  \n",
       "5  beauty_image/77e6b7e9d5544adbfda6809b2351c4fa.jpg  \n",
       "6  beauty_image/485c4b8435a1e94976a569f3f014ea8b.jpg  \n",
       "7  beauty_image/c7336f1c2e590d4c2bee219a6a0351a7.jpg  \n",
       "8  beauty_image/970b32aa659689f371516e5ceb423e25.jpg  \n",
       "9  beauty_image/49a47745248031775c98593f70f7201a.jpg  "
      ]
     },
     "execution_count": 2,
     "metadata": {},
     "output_type": "execute_result"
    }
   ],
   "source": [
    "df_train = pd.read_csv('input/train.csv')\n",
    "# df = df[pd.notnull(df['tags'])]\n",
    "df_train.head(10)"
   ]
  },
  {
   "cell_type": "code",
   "execution_count": 30,
   "metadata": {},
   "outputs": [],
   "source": [
    "import itertools\n",
    "import os\n",
    "\n",
    "%matplotlib inline\n",
    "import matplotlib.pyplot as plt\n",
    "import numpy as np\n",
    "import pandas as pd\n",
    "import tensorflow as tf\n",
    "\n",
    "from sklearn.preprocessing import LabelBinarizer, LabelEncoder\n",
    "from sklearn.metrics import confusion_matrix\n",
    "\n",
    "from tensorflow import keras\n",
    "from keras.models import Sequential\n",
    "from keras.layers import LSTM, Dense, Activation, Dropout, TimeDistributed, Embedding\n",
    "from keras.preprocessing import text, sequence\n",
    "from keras import utils"
   ]
  },
  {
   "cell_type": "code",
   "execution_count": 4,
   "metadata": {},
   "outputs": [
    {
     "data": {
      "text/plain": [
       "[]"
      ]
     },
     "execution_count": 4,
     "metadata": {},
     "output_type": "execute_result"
    }
   ],
   "source": [
    "from keras import backend as K\n",
    "K.tensorflow_backend._get_available_gpus()"
   ]
  },
  {
   "cell_type": "code",
   "execution_count": 5,
   "metadata": {
    "collapsed": true
   },
   "outputs": [],
   "source": [
    "train_posts, test_posts, train_tags, test_tags = train_test_split(df_train['title'], \n",
    "                                                                  df_train['Category'], \n",
    "                                                                  test_size=0.33, \n",
    "                                                                  random_state=42)"
   ]
  },
  {
   "cell_type": "code",
   "execution_count": 64,
   "metadata": {
    "collapsed": true
   },
   "outputs": [],
   "source": [
    "max_words = 1000\n",
    "tokenize = text.Tokenizer(num_words=max_words, char_level=False)"
   ]
  },
  {
   "cell_type": "code",
   "execution_count": 65,
   "metadata": {
    "collapsed": true
   },
   "outputs": [],
   "source": [
    "tokenize.fit_on_texts(train_posts) # only fit on train\n",
    "x_train = tokenize.texts_to_matrix(train_posts)\n",
    "x_test = tokenize.texts_to_matrix(test_posts)"
   ]
  },
  {
   "cell_type": "code",
   "execution_count": 66,
   "metadata": {
    "collapsed": true
   },
   "outputs": [],
   "source": [
    "encoder = LabelEncoder()\n",
    "encoder.fit(train_tags)\n",
    "y_train = encoder.transform(train_tags)\n",
    "y_test = encoder.transform(test_tags)"
   ]
  },
  {
   "cell_type": "code",
   "execution_count": 67,
   "metadata": {
    "collapsed": true
   },
   "outputs": [],
   "source": [
    "num_classes = np.max(y_train) + 1\n",
    "y_train = utils.to_categorical(y_train, num_classes)\n",
    "y_test = utils.to_categorical(y_test, num_classes)"
   ]
  },
  {
   "cell_type": "code",
   "execution_count": 68,
   "metadata": {},
   "outputs": [
    {
     "name": "stdout",
     "output_type": "stream",
     "text": [
      "x_train shape: (446632, 1000)\n",
      "x_test shape: (219983, 1000)\n",
      "y_train shape: (446632, 58)\n",
      "y_test shape: (219983, 58)\n"
     ]
    }
   ],
   "source": [
    "print('x_train shape:', x_train.shape)\n",
    "print('x_test shape:', x_test.shape)\n",
    "print('y_train shape:', y_train.shape)\n",
    "print('y_test shape:', y_test.shape)"
   ]
  },
  {
   "cell_type": "code",
   "execution_count": 79,
   "metadata": {
    "collapsed": true
   },
   "outputs": [],
   "source": [
    "batch_size = 256\n",
    "epochs = 10"
   ]
  },
  {
   "cell_type": "code",
   "execution_count": 70,
   "metadata": {},
   "outputs": [
    {
     "data": {
      "text/plain": [
       "array([0., 1., 0., 1., 0., 0., 0., 1., 1., 0., 0., 0., 1., 0., 0., 0., 1.,\n",
       "       0., 0., 0., 0., 0., 0., 0., 0., 1., 0., 1., 0., 0., 0., 0., 0., 0.,\n",
       "       0., 0., 0., 0., 0., 0., 0., 0., 0., 0., 0., 0., 0., 0., 0., 0., 0.,\n",
       "       0., 0., 0., 0., 0., 0., 0., 0., 0., 0., 0., 0., 0., 0., 0., 0., 0.,\n",
       "       0., 0., 0., 0., 0., 0., 0., 0., 0., 0., 0., 0., 0., 0., 0., 0., 0.,\n",
       "       0., 1., 0., 0., 0., 0., 0., 0., 0., 0., 0., 0., 0., 0., 0., 0., 1.,\n",
       "       0., 0., 0., 0., 0., 0., 0., 0., 0., 0., 0., 0., 0., 0., 0., 0., 0.,\n",
       "       0., 0., 0., 0., 0., 0., 0., 0., 0., 0., 0., 0., 0., 0., 0., 0., 0.,\n",
       "       0., 0., 0., 0., 0., 0., 0., 0., 0., 0., 0., 0., 0., 0., 0., 0., 0.,\n",
       "       0., 0., 0., 0., 0., 0., 0., 0., 0., 0., 0., 0., 0., 0., 0., 0., 0.,\n",
       "       0., 0., 0., 0., 0., 0., 0., 0., 0., 0., 0., 0., 0., 0., 0., 0., 0.,\n",
       "       0., 0., 0., 0., 0., 0., 0., 0., 0., 0., 0., 0., 0., 0., 0., 0., 0.,\n",
       "       0., 0., 0., 0., 0., 0., 0., 0., 0., 0., 0., 0., 0., 0., 0., 0., 0.,\n",
       "       0., 0., 0., 0., 0., 0., 0., 0., 0., 0., 0., 0., 0., 0., 0., 0., 0.,\n",
       "       0., 0., 0., 0., 0., 0., 0., 0., 0., 0., 0., 0., 0., 0., 0., 0., 0.,\n",
       "       0., 0., 0., 0., 0., 0., 0., 0., 0., 0., 0., 0., 0., 0., 0., 0., 0.,\n",
       "       0., 0., 0., 0., 0., 0., 0., 0., 0., 0., 0., 0., 0., 0., 0., 0., 0.,\n",
       "       0., 0., 0., 0., 0., 0., 0., 0., 0., 0., 0., 0., 0., 0., 0., 0., 0.,\n",
       "       0., 0., 0., 0., 0., 0., 0., 0., 0., 0., 0., 0., 0., 0., 0., 0., 0.,\n",
       "       0., 0., 0., 0., 0., 0., 0., 0., 0., 0., 0., 0., 0., 0., 0., 0., 0.,\n",
       "       0., 0., 0., 0., 0., 0., 0., 0., 0., 0., 0., 0., 0., 0., 0., 0., 0.,\n",
       "       0., 0., 1., 0., 0., 0., 0., 0., 0., 0., 0., 0., 0., 0., 0., 0., 0.,\n",
       "       0., 0., 0., 0., 0., 0., 0., 0., 0., 0., 0., 0., 0., 0., 0., 0., 0.,\n",
       "       0., 0., 0., 0., 0., 0., 0., 0., 0., 0., 0., 0., 0., 0., 0., 0., 0.,\n",
       "       0., 0., 0., 0., 0., 0., 0., 0., 0., 0., 0., 0., 0., 0., 0., 0., 0.,\n",
       "       0., 0., 0., 0., 0., 0., 0., 0., 0., 0., 0., 0., 0., 0., 0., 0., 0.,\n",
       "       0., 0., 0., 0., 0., 0., 0., 0., 0., 0., 0., 0., 0., 0., 0., 0., 0.,\n",
       "       0., 0., 0., 0., 0., 0., 0., 0., 0., 0., 0., 0., 0., 0., 0., 0., 0.,\n",
       "       0., 0., 0., 0., 0., 0., 0., 0., 0., 0., 0., 0., 0., 0., 0., 0., 0.,\n",
       "       0., 0., 0., 0., 0., 0., 0., 0., 0., 0., 0., 0., 0., 0., 0., 0., 0.,\n",
       "       0., 0., 0., 0., 0., 0., 0., 0., 0., 0., 0., 0., 0., 0., 0., 0., 0.,\n",
       "       0., 0., 0., 0., 0., 0., 0., 0., 0., 0., 0., 0., 0., 0., 0., 0., 0.,\n",
       "       0., 0., 0., 0., 0., 0., 0., 0., 0., 0., 0., 0., 0., 0., 0., 0., 0.,\n",
       "       0., 0., 0., 0., 0., 0., 0., 0., 0., 0., 0., 0., 0., 0., 0., 0., 0.,\n",
       "       0., 0., 0., 0., 0., 0., 0., 0., 0., 0., 0., 0., 0., 0., 0., 0., 0.,\n",
       "       0., 0., 0., 0., 0., 0., 0., 0., 0., 0., 0., 0., 0., 0., 0., 0., 0.,\n",
       "       0., 0., 0., 0., 0., 0., 0., 0., 0., 0., 0., 0., 0., 0., 0., 0., 0.,\n",
       "       0., 0., 0., 0., 0., 0., 0., 0., 0., 0., 0., 0., 0., 0., 0., 0., 0.,\n",
       "       0., 0., 0., 0., 0., 0., 0., 0., 0., 0., 0., 0., 0., 0., 0., 0., 0.,\n",
       "       0., 0., 0., 0., 0., 0., 0., 0., 0., 0., 0., 0., 0., 0., 0., 0., 0.,\n",
       "       0., 0., 0., 0., 0., 0., 0., 0., 0., 0., 0., 0., 0., 0., 0., 0., 0.,\n",
       "       0., 0., 0., 0., 0., 0., 0., 0., 0., 0., 0., 0., 0., 0., 0., 0., 0.,\n",
       "       0., 0., 0., 0., 0., 0., 0., 0., 0., 0., 0., 0., 0., 0., 0., 0., 0.,\n",
       "       0., 0., 0., 0., 0., 0., 0., 0., 0., 0., 0., 0., 0., 0., 0., 0., 0.,\n",
       "       0., 0., 0., 0., 0., 0., 0., 0., 0., 0., 0., 0., 0., 0., 0., 0., 0.,\n",
       "       0., 0., 0., 0., 0., 0., 0., 0., 0., 0., 0., 0., 0., 0., 0., 0., 0.,\n",
       "       0., 0., 0., 0., 0., 0., 0., 0., 0., 0., 0., 0., 0., 0., 0., 0., 0.,\n",
       "       0., 0., 0., 0., 0., 0., 0., 0., 0., 0., 0., 0., 0., 0., 0., 0., 0.,\n",
       "       0., 0., 0., 0., 0., 0., 0., 0., 0., 0., 0., 0., 0., 0., 0., 0., 0.,\n",
       "       0., 0., 0., 0., 0., 0., 0., 0., 0., 0., 0., 0., 0., 0., 0., 0., 0.,\n",
       "       0., 0., 0., 0., 0., 0., 0., 0., 0., 0., 0., 0., 0., 0., 0., 0., 0.,\n",
       "       0., 0., 0., 0., 0., 0., 0., 0., 0., 0., 0., 0., 0., 0., 0., 0., 0.,\n",
       "       0., 0., 0., 0., 0., 0., 0., 0., 0., 0., 0., 0., 0., 0., 0., 0., 0.,\n",
       "       0., 0., 0., 0., 0., 0., 0., 0., 0., 0., 0., 0., 0., 0., 0., 0., 0.,\n",
       "       0., 0., 0., 0., 0., 0., 0., 0., 0., 0., 0., 0., 0., 0., 0., 0., 0.,\n",
       "       0., 0., 0., 0., 0., 0., 0., 0., 0., 0., 0., 0., 0., 0., 0., 0., 0.,\n",
       "       0., 0., 0., 0., 0., 0., 0., 0., 0., 0., 0., 0., 0., 0., 0., 0., 0.,\n",
       "       0., 0., 0., 0., 0., 0., 0., 0., 0., 0., 0., 0., 0., 0., 0., 0., 0.,\n",
       "       0., 0., 0., 0., 0., 0., 0., 0., 0., 0., 0., 0., 0., 0.])"
      ]
     },
     "execution_count": 70,
     "metadata": {},
     "output_type": "execute_result"
    }
   ],
   "source": [
    "x_train[1,:]"
   ]
  },
  {
   "cell_type": "code",
   "execution_count": 71,
   "metadata": {},
   "outputs": [
    {
     "data": {
      "text/plain": [
       "631739    promo cuci gudang oppo a7 64gb kredit tampa ca...\n",
       "501446    baju cewek wanita kaos v neck lengan panjang p...\n",
       "217843                   bb cream missha 20 ml spf 42 no 21\n",
       "25423                            acne scar cream cheapbrand\n",
       "337588    dress sexy bahan lace rajut model hollow untuk...\n",
       "648117    kualitas terbaik charger asus 2 a 9v fast char...\n",
       "218155                      the body shop tea tree bb cream\n",
       "45935                  ertos why acne night treatment cream\n",
       "624847    xperia z5premium e6853 single chrome ram3 32gb...\n",
       "471137    kaos t shirt wanita casual lengan pendek model...\n",
       "92540                 facial wash for normal skin theraskin\n",
       "415487    pakaian wanita baju blouse cewek kerah v biru ...\n",
       "129367    share 30 ml cosrx low ph good morning gel clea...\n",
       "39356     design modern etudehouse etude house dear girl...\n",
       "306089    gaun wanita model ikatan tali dengan kerah hal...\n",
       "297200    dress rajut mini slim turtleneck lengan panjan...\n",
       "351100    dress a line v neck lengan 3 4 motif polkadot ...\n",
       "390433                                   dress denim stripe\n",
       "341267    dress maxi a line lengan panjang motif print b...\n",
       "476499    belle fashion baju kaos t shirt murah wanita c...\n",
       "395273    ruthshen purple bridesmaid dresses long v neck...\n",
       "504138      blus o neck casual bahan sifon desain patchwork\n",
       "374140    dress midi sexy off shoulder sabrina lengan lo...\n",
       "595924    diskon calandiva dragon shockproof case oppo f...\n",
       "213274    hot fanbo hoitong powder bedak padat putih hoi...\n",
       "240926    best seller immortal cc cream blushing pink promo\n",
       "64691     olai olay white radiance brightening intensive...\n",
       "472072    promo okechuku nikita kaos tshirt print tangan...\n",
       "308036    dress v neck lengan 3 4 motif bunga etnik untu...\n",
       "487614    2018 kaos t shirt longgar lengan pendek motif ...\n",
       "                                ...                        \n",
       "384681    dress mini tanpa lengan model casual untuk pes...\n",
       "156730        preloved pixy bb cream bright fix shade beige\n",
       "500186    kemeja wanita rayon polos lengan panjang loose...\n",
       "486232    kemeja kerah lapel lengan panjang kancing depa...\n",
       "258795        goban melted matte lip cream 2nd day dreaming\n",
       "421909    kaos crop top casual o neck lengan pendek moti...\n",
       "347449    long sleeve splice sexy irregular dress solid ...\n",
       "184779    preloved wardah instaperfect matte fit powder ...\n",
       "214176                   wardah hydramild multifunction gel\n",
       "235796    new produk ultima ii procollagen supreme cavia...\n",
       "103355                            hugo boss orange man sale\n",
       "199041                        wardah everyday bb cream 15ml\n",
       "327069    mt fashion women sexy mini dress off shoulder ...\n",
       "321879    women front buttoned flowy sling red dress sex...\n",
       "64820            best quality innisfree auto eyebrow pencil\n",
       "329365    dress wanita kebaya modern gaun pesta pernikah...\n",
       "41090     terbaik focallure single highlighter contour m...\n",
       "278167    perawatan untuk bibir kering hitam remaja q pe...\n",
       "191335                                 bedak ponds thailand\n",
       "175203    sale kos0452 missha m magic cover cushion pack...\n",
       "87498     somebymi aha bha pha 30 days miracle cream 50m...\n",
       "521430                              tab evercoss at1a hitam\n",
       "137337          diskon focallure face makeup pressed powder\n",
       "54886                  bb cream bioaqua super wearing 30 ml\n",
       "110268                               rimmel london bb cream\n",
       "644167    new uneed shield 9h hybrid glass for samsung g...\n",
       "259178                           pixy lip matte cream harga\n",
       "365838    paling sesuai dress bohemian lengan panjang bo...\n",
       "131932              promo wardah luminous face powder murah\n",
       "121958    aman loreal infallible total cover 308 sun bei...\n",
       "Name: title, Length: 446632, dtype: object"
      ]
     },
     "execution_count": 71,
     "metadata": {},
     "output_type": "execute_result"
    }
   ],
   "source": [
    "train_posts"
   ]
  },
  {
   "cell_type": "code",
   "execution_count": 72,
   "metadata": {},
   "outputs": [],
   "source": [
    "# Build the model\n",
    "model = Sequential()\n",
    "model.add(LSTM(120,input_shape=(1,max_words)))\n",
    "model.add(Activation('relu'))\n",
    "#model.add(Dropout(0.5))\n",
    "model.add(Dense(num_classes, activation='relu'))\n",
    "model.add(Dense(num_classes, activation='relu'))\n",
    "model.add(Activation('softmax'))\n",
    "\n",
    "model.compile(loss='categorical_crossentropy',\n",
    "              optimizer='adam',\n",
    "              metrics=['accuracy'])"
   ]
  },
  {
   "cell_type": "code",
   "execution_count": 80,
   "metadata": {},
   "outputs": [
    {
     "name": "stdout",
     "output_type": "stream",
     "text": [
      "Train on 401968 samples, validate on 44664 samples\n",
      "Epoch 1/10\n",
      "401968/401968 [==============================] - 114s 285us/step - loss: 1.4237 - acc: 0.6408 - val_loss: 1.4391 - val_acc: 0.6372\n",
      "Epoch 2/10\n",
      "401968/401968 [==============================] - 118s 294us/step - loss: 1.3977 - acc: 0.6463 - val_loss: 1.4276 - val_acc: 0.6395: 1.3985 \n",
      "Epoch 3/10\n",
      "401968/401968 [==============================] - 113s 282us/step - loss: 1.3746 - acc: 0.6513 - val_loss: 1.4187 - val_acc: 0.6419\n",
      "Epoch 4/10\n",
      "401968/401968 [==============================] - 138s 343us/step - loss: 1.3533 - acc: 0.6571 - val_loss: 1.4143 - val_acc: 0.6432\n",
      "Epoch 5/10\n",
      "401968/401968 [==============================] - 128s 319us/step - loss: 1.3335 - acc: 0.6613 - val_loss: 1.4118 - val_acc: 0.6436\n",
      "Epoch 6/10\n",
      "401968/401968 [==============================] - 120s 299us/step - loss: 1.3146 - acc: 0.6660 - val_loss: 1.4093 - val_acc: 0.6455\n",
      "Epoch 7/10\n",
      "401968/401968 [==============================] - 122s 304us/step - loss: 1.2962 - acc: 0.6708 - val_loss: 1.4131 - val_acc: 0.6463\n",
      "Epoch 8/10\n",
      "401968/401968 [==============================] - 121s 301us/step - loss: 1.2792 - acc: 0.6748 - val_loss: 1.4153 - val_acc: 0.6441\n",
      "Epoch 9/10\n",
      "401968/401968 [==============================] - 142s 353us/step - loss: 1.2628 - acc: 0.6793 - val_loss: 1.4155 - val_acc: 0.6463\n",
      "Epoch 10/10\n",
      "401968/401968 [==============================] - 134s 332us/step - loss: 1.2475 - acc: 0.6829 - val_loss: 1.4230 - val_acc: 0.6437\n"
     ]
    }
   ],
   "source": [
    "history = model.fit(x_train.reshape((x_train.shape[0],1,x_train.shape[1])), y_train,\n",
    "                    batch_size=batch_size,\n",
    "                    epochs=epochs,\n",
    "                    verbose=1,\n",
    "                    validation_split=0.1)"
   ]
  },
  {
   "cell_type": "code",
   "execution_count": 81,
   "metadata": {},
   "outputs": [
    {
     "name": "stdout",
     "output_type": "stream",
     "text": [
      "219983/219983 [==============================] - 21s 95us/step\n",
      "Test accuracy: 0.6455544292142926\n"
     ]
    }
   ],
   "source": [
    "score = model.evaluate(x_test.reshape((x_test.shape[0],1,x_test.shape[1])), y_test,\n",
    "                       batch_size=batch_size, verbose=1)\n",
    "print('Test accuracy:', score[1])"
   ]
  },
  {
   "cell_type": "code",
   "execution_count": 82,
   "metadata": {},
   "outputs": [
    {
     "data": {
      "text/html": [
       "<div>\n",
       "<style>\n",
       "    .dataframe thead tr:only-child th {\n",
       "        text-align: right;\n",
       "    }\n",
       "\n",
       "    .dataframe thead th {\n",
       "        text-align: left;\n",
       "    }\n",
       "\n",
       "    .dataframe tbody tr th {\n",
       "        vertical-align: top;\n",
       "    }\n",
       "</style>\n",
       "<table border=\"1\" class=\"dataframe\">\n",
       "  <thead>\n",
       "    <tr style=\"text-align: right;\">\n",
       "      <th></th>\n",
       "      <th>itemid</th>\n",
       "      <th>title</th>\n",
       "      <th>image_path</th>\n",
       "    </tr>\n",
       "  </thead>\n",
       "  <tbody>\n",
       "    <tr>\n",
       "      <th>0</th>\n",
       "      <td>370855998</td>\n",
       "      <td>flormar 7 white cream bb spf 30 40ml</td>\n",
       "      <td>beauty_image/1588591395c5a254bab84042005f2a9f.jpg</td>\n",
       "    </tr>\n",
       "    <tr>\n",
       "      <th>1</th>\n",
       "      <td>637234604</td>\n",
       "      <td>maybelline clear smooth all in one bb cream sp...</td>\n",
       "      <td>beauty_image/920985ed9587ea20f58686ea74e20f93.jpg</td>\n",
       "    </tr>\n",
       "    <tr>\n",
       "      <th>2</th>\n",
       "      <td>690282890</td>\n",
       "      <td>murah innisfree eco natural green tea bb cream...</td>\n",
       "      <td>beauty_image/90b40e5710f54352b243fcfb0f5d1d7f.jpg</td>\n",
       "    </tr>\n",
       "    <tr>\n",
       "      <th>3</th>\n",
       "      <td>930913462</td>\n",
       "      <td>loreal white perfect day cream spf 17 pa white...</td>\n",
       "      <td>beauty_image/289c668ef3d70e1d929d602d52d5d78a.jpg</td>\n",
       "    </tr>\n",
       "    <tr>\n",
       "      <th>4</th>\n",
       "      <td>1039280071</td>\n",
       "      <td>hada labo cc cream ultimate anti aging spf 35 ...</td>\n",
       "      <td>beauty_image/d5b3e652c5822d2306f4560488ec30c6.jpg</td>\n",
       "    </tr>\n",
       "    <tr>\n",
       "      <th>5</th>\n",
       "      <td>1327710392</td>\n",
       "      <td>cathy doll cc speed white powder pact spf 40 o...</td>\n",
       "      <td>beauty_image/e1e50828d5594721a7d5d5c1ff78afbd.jpg</td>\n",
       "    </tr>\n",
       "    <tr>\n",
       "      <th>6</th>\n",
       "      <td>1328802799</td>\n",
       "      <td>safi white natural brightening cream 45g</td>\n",
       "      <td>beauty_image/97ec852d5afc5d82ac02b80083cf292f.jpg</td>\n",
       "    </tr>\n",
       "    <tr>\n",
       "      <th>7</th>\n",
       "      <td>1330468145</td>\n",
       "      <td>light beige 03 bioaqua bb cushion exquisite de...</td>\n",
       "      <td>beauty_image/8ce1a5fe546f0cc795329bad599a8d5a.jpg</td>\n",
       "    </tr>\n",
       "    <tr>\n",
       "      <th>8</th>\n",
       "      <td>1677309730</td>\n",
       "      <td>new produk missha m perfect bb cream share in ...</td>\n",
       "      <td>beauty_image/755fcc85c687e8cb53d2a8d43ebfe251.jpg</td>\n",
       "    </tr>\n",
       "    <tr>\n",
       "      <th>9</th>\n",
       "      <td>1683142205</td>\n",
       "      <td>ready laneige bb cushion anti aging spf 50 pa</td>\n",
       "      <td>beauty_image/34b56398c099505c650cf2447dc9f21f.jpg</td>\n",
       "    </tr>\n",
       "  </tbody>\n",
       "</table>\n",
       "</div>"
      ],
      "text/plain": [
       "       itemid                                              title  \\\n",
       "0   370855998               flormar 7 white cream bb spf 30 40ml   \n",
       "1   637234604  maybelline clear smooth all in one bb cream sp...   \n",
       "2   690282890  murah innisfree eco natural green tea bb cream...   \n",
       "3   930913462  loreal white perfect day cream spf 17 pa white...   \n",
       "4  1039280071  hada labo cc cream ultimate anti aging spf 35 ...   \n",
       "5  1327710392  cathy doll cc speed white powder pact spf 40 o...   \n",
       "6  1328802799           safi white natural brightening cream 45g   \n",
       "7  1330468145  light beige 03 bioaqua bb cushion exquisite de...   \n",
       "8  1677309730  new produk missha m perfect bb cream share in ...   \n",
       "9  1683142205      ready laneige bb cushion anti aging spf 50 pa   \n",
       "\n",
       "                                          image_path  \n",
       "0  beauty_image/1588591395c5a254bab84042005f2a9f.jpg  \n",
       "1  beauty_image/920985ed9587ea20f58686ea74e20f93.jpg  \n",
       "2  beauty_image/90b40e5710f54352b243fcfb0f5d1d7f.jpg  \n",
       "3  beauty_image/289c668ef3d70e1d929d602d52d5d78a.jpg  \n",
       "4  beauty_image/d5b3e652c5822d2306f4560488ec30c6.jpg  \n",
       "5  beauty_image/e1e50828d5594721a7d5d5c1ff78afbd.jpg  \n",
       "6  beauty_image/97ec852d5afc5d82ac02b80083cf292f.jpg  \n",
       "7  beauty_image/8ce1a5fe546f0cc795329bad599a8d5a.jpg  \n",
       "8  beauty_image/755fcc85c687e8cb53d2a8d43ebfe251.jpg  \n",
       "9  beauty_image/34b56398c099505c650cf2447dc9f21f.jpg  "
      ]
     },
     "execution_count": 82,
     "metadata": {},
     "output_type": "execute_result"
    }
   ],
   "source": [
    "df_public = pd.read_csv('input/test.csv')\n",
    "df_public.head(10)"
   ]
  },
  {
   "cell_type": "code",
   "execution_count": 83,
   "metadata": {
    "collapsed": true
   },
   "outputs": [],
   "source": [
    "x_public = tokenize.texts_to_matrix(df_public[\"title\"])"
   ]
  },
  {
   "cell_type": "code",
   "execution_count": 84,
   "metadata": {},
   "outputs": [
    {
     "name": "stdout",
     "output_type": "stream",
     "text": [
      "172402/172402 [==============================] - 30s 174us/step\n"
     ]
    }
   ],
   "source": [
    "preds = model.predict(x_public.reshape((x_public.shape[0],1,x_public.shape[1])), verbose=1)"
   ]
  },
  {
   "cell_type": "code",
   "execution_count": 85,
   "metadata": {
    "collapsed": true
   },
   "outputs": [],
   "source": [
    "df_public['Category'] = [np.argmax(pred) for pred in preds]\n",
    "df_submit = df_public[['itemid', 'Category']].copy()\n",
    "df_submit.to_csv('submission.csv', index=False)"
   ]
  },
  {
   "cell_type": "code",
   "execution_count": null,
   "metadata": {
    "collapsed": true
   },
   "outputs": [],
   "source": []
  }
 ],
 "metadata": {
  "kernelspec": {
   "display_name": "Python 3",
   "language": "python",
   "name": "python3"
  },
  "language_info": {
   "codemirror_mode": {
    "name": "ipython",
    "version": 3
   },
   "file_extension": ".py",
   "mimetype": "text/x-python",
   "name": "python",
   "nbconvert_exporter": "python",
   "pygments_lexer": "ipython3",
   "version": "3.6.8"
  }
 },
 "nbformat": 4,
 "nbformat_minor": 2
}
