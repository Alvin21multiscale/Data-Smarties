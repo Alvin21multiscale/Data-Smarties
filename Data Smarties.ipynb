{
 "cells": [
  {
   "cell_type": "code",
   "execution_count": 1,
   "metadata": {},
   "outputs": [],
   "source": [
    "import logging\n",
    "import pandas as pd\n",
    "import numpy as np\n",
    "from numpy import random\n",
    "import nltk\n",
    "from sklearn.model_selection import train_test_split\n",
    "from sklearn.feature_extraction.text import CountVectorizer, TfidfVectorizer\n",
    "import matplotlib.pyplot as plt\n",
    "from nltk.corpus import stopwords\n",
    "import re\n",
    "\n",
    "%matplotlib inline"
   ]
  },
  {
   "cell_type": "code",
   "execution_count": 2,
   "metadata": {},
   "outputs": [
    {
     "data": {
      "text/html": [
       "<div>\n",
       "<style scoped>\n",
       "    .dataframe tbody tr th:only-of-type {\n",
       "        vertical-align: middle;\n",
       "    }\n",
       "\n",
       "    .dataframe tbody tr th {\n",
       "        vertical-align: top;\n",
       "    }\n",
       "\n",
       "    .dataframe thead th {\n",
       "        text-align: right;\n",
       "    }\n",
       "</style>\n",
       "<table border=\"1\" class=\"dataframe\">\n",
       "  <thead>\n",
       "    <tr style=\"text-align: right;\">\n",
       "      <th></th>\n",
       "      <th>itemid</th>\n",
       "      <th>title</th>\n",
       "      <th>Category</th>\n",
       "      <th>image_path</th>\n",
       "    </tr>\n",
       "  </thead>\n",
       "  <tbody>\n",
       "    <tr>\n",
       "      <th>0</th>\n",
       "      <td>307504</td>\n",
       "      <td>nyx sex bomb pallete natural palette</td>\n",
       "      <td>0</td>\n",
       "      <td>beauty_image/6b2e9cbb279ac95703348368aa65da09.jpg</td>\n",
       "    </tr>\n",
       "    <tr>\n",
       "      <th>1</th>\n",
       "      <td>461203</td>\n",
       "      <td>etude house precious mineral any cushion pearl...</td>\n",
       "      <td>1</td>\n",
       "      <td>beauty_image/20450222d857c9571ba8fa23bdedc8c9.jpg</td>\n",
       "    </tr>\n",
       "    <tr>\n",
       "      <th>2</th>\n",
       "      <td>3592295</td>\n",
       "      <td>milani rose powder blush</td>\n",
       "      <td>2</td>\n",
       "      <td>beauty_image/6a5962bed605a3dd6604ca3a4278a4f9.jpg</td>\n",
       "    </tr>\n",
       "    <tr>\n",
       "      <th>3</th>\n",
       "      <td>4460167</td>\n",
       "      <td>etude house baby sweet sugar powder</td>\n",
       "      <td>3</td>\n",
       "      <td>beauty_image/56987ae186e8a8e71fcc5a261ca485da.jpg</td>\n",
       "    </tr>\n",
       "    <tr>\n",
       "      <th>4</th>\n",
       "      <td>5853995</td>\n",
       "      <td>bedak revlon color stay aqua mineral make up</td>\n",
       "      <td>3</td>\n",
       "      <td>beauty_image/9c6968066ebab57588c2f757a240d8b9.jpg</td>\n",
       "    </tr>\n",
       "    <tr>\n",
       "      <th>5</th>\n",
       "      <td>6208490</td>\n",
       "      <td>dr pure whitening cream</td>\n",
       "      <td>4</td>\n",
       "      <td>beauty_image/77e6b7e9d5544adbfda6809b2351c4fa.jpg</td>\n",
       "    </tr>\n",
       "    <tr>\n",
       "      <th>6</th>\n",
       "      <td>6959546</td>\n",
       "      <td>chanel powder blush malice</td>\n",
       "      <td>2</td>\n",
       "      <td>beauty_image/485c4b8435a1e94976a569f3f014ea8b.jpg</td>\n",
       "    </tr>\n",
       "    <tr>\n",
       "      <th>7</th>\n",
       "      <td>8984461</td>\n",
       "      <td>snail white cream original 100</td>\n",
       "      <td>4</td>\n",
       "      <td>beauty_image/c7336f1c2e590d4c2bee219a6a0351a7.jpg</td>\n",
       "    </tr>\n",
       "    <tr>\n",
       "      <th>8</th>\n",
       "      <td>9184082</td>\n",
       "      <td>sunprise all proof spf 50</td>\n",
       "      <td>4</td>\n",
       "      <td>beauty_image/970b32aa659689f371516e5ceb423e25.jpg</td>\n",
       "    </tr>\n",
       "    <tr>\n",
       "      <th>9</th>\n",
       "      <td>10345338</td>\n",
       "      <td>eyebrow powder nyx satuan rp 15.000 pc</td>\n",
       "      <td>3</td>\n",
       "      <td>beauty_image/49a47745248031775c98593f70f7201a.jpg</td>\n",
       "    </tr>\n",
       "  </tbody>\n",
       "</table>\n",
       "</div>"
      ],
      "text/plain": [
       "     itemid                                              title  Category  \\\n",
       "0    307504               nyx sex bomb pallete natural palette         0   \n",
       "1    461203  etude house precious mineral any cushion pearl...         1   \n",
       "2   3592295                           milani rose powder blush         2   \n",
       "3   4460167                etude house baby sweet sugar powder         3   \n",
       "4   5853995       bedak revlon color stay aqua mineral make up         3   \n",
       "5   6208490                            dr pure whitening cream         4   \n",
       "6   6959546                         chanel powder blush malice         2   \n",
       "7   8984461                     snail white cream original 100         4   \n",
       "8   9184082                          sunprise all proof spf 50         4   \n",
       "9  10345338             eyebrow powder nyx satuan rp 15.000 pc         3   \n",
       "\n",
       "                                          image_path  \n",
       "0  beauty_image/6b2e9cbb279ac95703348368aa65da09.jpg  \n",
       "1  beauty_image/20450222d857c9571ba8fa23bdedc8c9.jpg  \n",
       "2  beauty_image/6a5962bed605a3dd6604ca3a4278a4f9.jpg  \n",
       "3  beauty_image/56987ae186e8a8e71fcc5a261ca485da.jpg  \n",
       "4  beauty_image/9c6968066ebab57588c2f757a240d8b9.jpg  \n",
       "5  beauty_image/77e6b7e9d5544adbfda6809b2351c4fa.jpg  \n",
       "6  beauty_image/485c4b8435a1e94976a569f3f014ea8b.jpg  \n",
       "7  beauty_image/c7336f1c2e590d4c2bee219a6a0351a7.jpg  \n",
       "8  beauty_image/970b32aa659689f371516e5ceb423e25.jpg  \n",
       "9  beauty_image/49a47745248031775c98593f70f7201a.jpg  "
      ]
     },
     "execution_count": 2,
     "metadata": {},
     "output_type": "execute_result"
    }
   ],
   "source": [
    "df_train = pd.read_csv('input/train.csv')\n",
    "# df = df[pd.notnull(df['tags'])]\n",
    "df_train.head(10)"
   ]
  },
  {
   "cell_type": "code",
   "execution_count": 3,
   "metadata": {},
   "outputs": [
    {
     "name": "stderr",
     "output_type": "stream",
     "text": [
      "Using TensorFlow backend.\n"
     ]
    }
   ],
   "source": [
    "import itertools\n",
    "import os\n",
    "\n",
    "%matplotlib inline\n",
    "import matplotlib.pyplot as plt\n",
    "import numpy as np\n",
    "import pandas as pd\n",
    "import tensorflow as tf\n",
    "\n",
    "from sklearn.preprocessing import LabelBinarizer, LabelEncoder\n",
    "from sklearn.metrics import confusion_matrix\n",
    "\n",
    "from tensorflow import keras\n",
    "from keras.models import Sequential\n",
    "from keras.layers import LSTM, Dense, Activation, Dropout, TimeDistributed, Embedding\n",
    "from keras.preprocessing import text, sequence\n",
    "from keras import utils"
   ]
  },
  {
   "cell_type": "code",
   "execution_count": 4,
   "metadata": {},
   "outputs": [
    {
     "data": {
      "text/plain": [
       "['/job:localhost/replica:0/task:0/device:GPU:0',\n",
       " '/job:localhost/replica:0/task:0/device:GPU:1']"
      ]
     },
     "execution_count": 4,
     "metadata": {},
     "output_type": "execute_result"
    }
   ],
   "source": [
    "from keras import backend as K\n",
    "K.tensorflow_backend._get_available_gpus()"
   ]
  },
  {
   "cell_type": "code",
   "execution_count": 5,
   "metadata": {},
   "outputs": [],
   "source": [
    "train_posts, test_posts, train_tags, test_tags = train_test_split(df_train['title'], \n",
    "                                                                  df_train['Category'], \n",
    "                                                                  test_size=0.3, \n",
    "                                                                  random_state=40)"
   ]
  },
  {
   "cell_type": "code",
   "execution_count": 6,
   "metadata": {},
   "outputs": [],
   "source": [
    "max_words = 2000\n",
    "tokenize = text.Tokenizer(num_words=max_words, char_level=False)"
   ]
  },
  {
   "cell_type": "code",
   "execution_count": 7,
   "metadata": {},
   "outputs": [],
   "source": [
    "tokenize.fit_on_texts(df_train['title']) # only fit on train\n",
    "x_train = tokenize.texts_to_matrix(train_posts)\n",
    "x_test = tokenize.texts_to_matrix(test_posts)"
   ]
  },
  {
   "cell_type": "code",
   "execution_count": 8,
   "metadata": {},
   "outputs": [],
   "source": [
    "encoder = LabelEncoder()\n",
    "encoder.fit(train_tags)\n",
    "y_train = encoder.transform(train_tags)\n",
    "y_test = encoder.transform(test_tags)"
   ]
  },
  {
   "cell_type": "code",
   "execution_count": 9,
   "metadata": {},
   "outputs": [],
   "source": [
    "num_classes = np.max(y_train) + 1\n",
    "y_train = utils.to_categorical(y_train, num_classes)\n",
    "y_test = utils.to_categorical(y_test, num_classes)"
   ]
  },
  {
   "cell_type": "code",
   "execution_count": 10,
   "metadata": {},
   "outputs": [
    {
     "name": "stdout",
     "output_type": "stream",
     "text": [
      "x_train shape: (466630, 2000)\n",
      "x_test shape: (199985, 2000)\n",
      "y_train shape: (466630, 58)\n",
      "y_test shape: (199985, 58)\n"
     ]
    }
   ],
   "source": [
    "print('x_train shape:', x_train.shape)\n",
    "print('x_test shape:', x_test.shape)\n",
    "print('y_train shape:', y_train.shape)\n",
    "print('y_test shape:', y_test.shape)"
   ]
  },
  {
   "cell_type": "code",
   "execution_count": 11,
   "metadata": {},
   "outputs": [],
   "source": [
    "batch_size = 512\n",
    "epochs = 20"
   ]
  },
  {
   "cell_type": "code",
   "execution_count": 12,
   "metadata": {},
   "outputs": [
    {
     "data": {
      "text/plain": [
       "array([0., 1., 1., ..., 0., 0., 0.])"
      ]
     },
     "execution_count": 12,
     "metadata": {},
     "output_type": "execute_result"
    }
   ],
   "source": [
    "x_train[1,:]"
   ]
  },
  {
   "cell_type": "code",
   "execution_count": 13,
   "metadata": {},
   "outputs": [
    {
     "data": {
      "text/plain": [
       "'etude house precious mineral any cushion pearl aura puff'"
      ]
     },
     "execution_count": 13,
     "metadata": {},
     "output_type": "execute_result"
    }
   ],
   "source": [
    "train_posts[1]"
   ]
  },
  {
   "cell_type": "code",
   "execution_count": 14,
   "metadata": {},
   "outputs": [],
   "source": [
    "# Build the model\n",
    "model = Sequential()\n",
    "model.add(LSTM(1000,input_shape=(1,max_words)))\n",
    "model.add(Dropout(0.8))\n",
    "model.add(Dense(512, activation='elu'))\n",
    "model.add(Dropout(0.8))\n",
    "model.add(Dense(num_classes, activation='elu'))\n",
    "model.add(Dropout(0.5))\n",
    "\n",
    "model.add(Dense(num_classes, activation='elu'))\n",
    "model.add(Activation('softmax'))\n",
    "\n",
    "model.compile(loss='categorical_crossentropy',\n",
    "              optimizer='adam',\n",
    "              metrics=['accuracy'])"
   ]
  },
  {
   "cell_type": "code",
   "execution_count": 15,
   "metadata": {},
   "outputs": [
    {
     "name": "stdout",
     "output_type": "stream",
     "text": [
      "Train on 419967 samples, validate on 46663 samples\n",
      "Epoch 1/20\n",
      "419967/419967 [==============================] - 44s 105us/step - loss: 1.4820 - acc: 0.6004 - val_loss: 1.0312 - val_acc: 0.6910\n",
      "Epoch 2/20\n",
      "419967/419967 [==============================] - 38s 90us/step - loss: 1.1680 - acc: 0.6642 - val_loss: 0.9926 - val_acc: 0.6966\n",
      "Epoch 3/20\n",
      "419967/419967 [==============================] - 38s 90us/step - loss: 1.1288 - acc: 0.6712 - val_loss: 0.9746 - val_acc: 0.6987\n",
      "Epoch 4/20\n",
      "419967/419967 [==============================] - 38s 90us/step - loss: 1.1039 - acc: 0.6758 - val_loss: 0.9638 - val_acc: 0.7012\n",
      "Epoch 5/20\n",
      "419967/419967 [==============================] - 38s 90us/step - loss: 1.0877 - acc: 0.6793 - val_loss: 0.9588 - val_acc: 0.7018\n",
      "Epoch 6/20\n",
      "419967/419967 [==============================] - 38s 90us/step - loss: 1.0756 - acc: 0.6817 - val_loss: 0.9532 - val_acc: 0.7050\n",
      "Epoch 7/20\n",
      "419967/419967 [==============================] - 38s 90us/step - loss: 1.0647 - acc: 0.6838 - val_loss: 0.9466 - val_acc: 0.7058\n",
      "Epoch 8/20\n",
      "419967/419967 [==============================] - 38s 90us/step - loss: 1.0531 - acc: 0.6866 - val_loss: 0.9405 - val_acc: 0.7072\n",
      "Epoch 9/20\n",
      "419967/419967 [==============================] - 38s 90us/step - loss: 1.0442 - acc: 0.6889 - val_loss: 0.9320 - val_acc: 0.7089\n",
      "Epoch 10/20\n",
      "419967/419967 [==============================] - 38s 90us/step - loss: 1.0338 - acc: 0.6910 - val_loss: 0.9284 - val_acc: 0.7103\n",
      "Epoch 11/20\n",
      "419967/419967 [==============================] - 38s 90us/step - loss: 1.0259 - acc: 0.6926 - val_loss: 0.9246 - val_acc: 0.7114\n",
      "Epoch 12/20\n",
      "419967/419967 [==============================] - 38s 90us/step - loss: 1.0169 - acc: 0.6949 - val_loss: 0.9209 - val_acc: 0.7134\n",
      "Epoch 13/20\n",
      "419967/419967 [==============================] - 38s 90us/step - loss: 1.0102 - acc: 0.6963 - val_loss: 0.9154 - val_acc: 0.7143\n",
      "Epoch 14/20\n",
      "419967/419967 [==============================] - 38s 90us/step - loss: 1.0013 - acc: 0.6989 - val_loss: 0.9121 - val_acc: 0.7157\n",
      "Epoch 15/20\n",
      "419967/419967 [==============================] - 38s 90us/step - loss: 0.9933 - acc: 0.7015 - val_loss: 0.9070 - val_acc: 0.7157\n",
      "Epoch 16/20\n",
      "419967/419967 [==============================] - 38s 90us/step - loss: 0.9869 - acc: 0.7030 - val_loss: 0.9062 - val_acc: 0.7175\n",
      "Epoch 17/20\n",
      "419967/419967 [==============================] - 38s 90us/step - loss: 0.9788 - acc: 0.7049 - val_loss: 0.9004 - val_acc: 0.7185\n",
      "Epoch 18/20\n",
      "419967/419967 [==============================] - 38s 90us/step - loss: 0.9715 - acc: 0.7070 - val_loss: 0.8945 - val_acc: 0.7190\n",
      "Epoch 19/20\n",
      "419967/419967 [==============================] - 38s 90us/step - loss: 0.9653 - acc: 0.7080 - val_loss: 0.8934 - val_acc: 0.7208\n",
      "Epoch 20/20\n",
      "419967/419967 [==============================] - 38s 90us/step - loss: 0.9598 - acc: 0.7089 - val_loss: 0.8922 - val_acc: 0.7218\n"
     ]
    }
   ],
   "source": [
    "history = model.fit(x_train.reshape((x_train.shape[0],1,x_train.shape[1])), y_train,\n",
    "                    batch_size=batch_size,\n",
    "                    epochs=epochs,\n",
    "                    verbose=1,\n",
    "                    validation_split=0.1)"
   ]
  },
  {
   "cell_type": "code",
   "execution_count": null,
   "metadata": {},
   "outputs": [],
   "source": [
    "score = model.evaluate(x_test.reshape((x_test.shape[0],1,x_test.shape[1])), y_test,\n",
    "                       batch_size=batch_size, verbose=1)\n",
    "print('Test accuracy:', score[1])"
   ]
  },
  {
   "cell_type": "code",
   "execution_count": null,
   "metadata": {},
   "outputs": [],
   "source": [
    "from sklearn.metrics import classification_report\n",
    "y_predicted = model.predict_classes(x_test.reshape((x_test.shape[0],1,x_test.shape[1])), verbose=1)"
   ]
  },
  {
   "cell_type": "code",
   "execution_count": null,
   "metadata": {},
   "outputs": [],
   "source": [
    "y_test_num = np.argmax(y_test, axis=1)"
   ]
  },
  {
   "cell_type": "code",
   "execution_count": null,
   "metadata": {},
   "outputs": [],
   "source": [
    "print(classification_report(y_test_num, y_predicted))"
   ]
  },
  {
   "cell_type": "code",
   "execution_count": null,
   "metadata": {},
   "outputs": [],
   "source": [
    "df_public = pd.read_csv('input/test.csv')\n",
    "df_public.head(10)"
   ]
  },
  {
   "cell_type": "code",
   "execution_count": null,
   "metadata": {},
   "outputs": [],
   "source": [
    "x_public = tokenize.texts_to_matrix(df_public[\"title\"])"
   ]
  },
  {
   "cell_type": "code",
   "execution_count": null,
   "metadata": {},
   "outputs": [],
   "source": [
    "preds = model.predict(x_public.reshape((x_public.shape[0],1,x_public.shape[1])), verbose=1)"
   ]
  },
  {
   "cell_type": "code",
   "execution_count": null,
   "metadata": {},
   "outputs": [],
   "source": [
    "df_public['Category'] = [np.argmax(pred) for pred in preds]\n",
    "df_submit = df_public[['itemid', 'Category']].copy()\n",
    "df_submit.to_csv('submission.csv', index=False)"
   ]
  },
  {
   "cell_type": "code",
   "execution_count": null,
   "metadata": {},
   "outputs": [],
   "source": [
    "model.save('ThurMar21.h5')"
   ]
  },
  {
   "cell_type": "code",
   "execution_count": null,
   "metadata": {},
   "outputs": [],
   "source": []
  }
 ],
 "metadata": {
  "kernelspec": {
   "display_name": "Python 3",
   "language": "python",
   "name": "python3"
  },
  "language_info": {
   "codemirror_mode": {
    "name": "ipython",
    "version": 3
   },
   "file_extension": ".py",
   "mimetype": "text/x-python",
   "name": "python",
   "nbconvert_exporter": "python",
   "pygments_lexer": "ipython3",
   "version": "3.6.8"
  }
 },
 "nbformat": 4,
 "nbformat_minor": 2
}
